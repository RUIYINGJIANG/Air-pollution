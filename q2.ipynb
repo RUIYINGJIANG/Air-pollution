{
 "cells": [
  {
   "cell_type": "markdown",
   "id": "8f59d879",
   "metadata": {},
   "source": [
    "## Q2: Air pollution (30 marks)\n",
    "\n",
    "In this question, we will use the OpenWeather API to get the pollution data for different cities. Do the following:\n",
    "\n",
    "1. Get a list of cities with their latitude and longitude information by doing the following:\n",
    "    * (a) Download the list of cities from the table in https://en.wikipedia.org/wiki/List_of_cities_by_elevation using [`pd.read_html()`](https://pandas.pydata.org/docs/reference/api/pandas.read_html.html)\n",
    "    * (b) Keep all the rows except those with Americas as Continental Region in a `pd.DataFrame`. Only keep columns  `City Name/s`, `Continental Region`, `Latitude` and `Longitude`. How many cities do you have in the `pd.DataFrame`?\n",
    "    * (c) Convert the Latitude and Longitude from the use of \"N\", \"E\", \"S\", \"W\" to `float` with signs +, +, -, -\n",
    "        \n",
    "At the end you should get a `pd.DataFrame` like the following:\n",
    "<img src=\"figs/cities.png\" width=\"500\"/>\n",
    "\n",
    "Note only the first few rows are shown here.\n",
    "\n",
    "2. Update the `key.json` file with your OpenWeather API key, read [ OpenWeather API price](https://openweathermap.org/price) to find out how many API calls you can make per minute, per day and per month with your free account, and understand how to use the Air Pollution API by reading the documentation [here](https://openweathermap.org/api/air-pollution)\n",
    "    * You do not need to provide an answer for this part, but above are preparation works that will be useful when you call the API later \n",
    "3. Do the following:\n",
    "    * (a) Make API calls using the [Air Pollution API](https://openweathermap.org/api/air-pollution) to collect the current air pollution data of the cities from (1) using the latitude and longitude information from (1)\n",
    "    * (b) Combine the result from (1) and (3a) in a `pd.DataFrame` with the following 10 columns:\n",
    "        * City name\n",
    "        * Continental region\n",
    "        * The concentration of 8 types of polluting gases and particulates (8 separate columns)\n",
    "            * Carbon monoxide (CO), Nitrogen monoxide (NO), Nitrogen dioxide (NO2), Ozone (O3), Sulphur dioxide (SO2), Ammonia (NH3), and particulates (PM2.5 and PM10)\n",
    "    * (c) Store the `pd.DataFrame` from (3b) into a csv file in the `data` folder, with the name of the file to be `air_pollutant_2022mmdd.csv` with `mm` the month and `dd` the day you have collected the data. This file will help us to verify your result\n",
    "\n",
    "4. Use the `pd.DataFrame` from (3b) to investigate the relations between different variables by using some descriptive statistics like correlation and/or some aggregate functions:\n",
    "    * If the concentration of one pollutant is high, is it more likely that the concentration of another pollutant is also high? \n",
    "    * Do you find any relations between continental region and the pollution levels?\n",
    "    \n",
    "    Please state the limitations of your answers.\n",
    "    \n",
    "---\n",
    "### Hints\n",
    "* For (1), you may find [`.apply()`](https://pandas.pydata.org/docs/reference/api/pandas.DataFrame.apply.html) and/or [`.str.replace()`](https://pandas.pydata.org/docs/reference/api/pandas.Series.str.replace.html) useful\n",
    "* For (3), you may want to make use of [`.iterrows()`](https://pandas.pydata.org/docs/reference/api/pandas.DataFrame.iterrows.html) to help you to iterate over each row\n",
    "\n",
    "---"
   ]
  },
  {
   "cell_type": "code",
   "execution_count": 1,
   "id": "d74abb41",
   "metadata": {},
   "outputs": [],
   "source": [
    "## your attempt, please add the code cells and markdown cells for your answers. Make sure you:\n",
    "## * use the right type of cells\n",
    "## * state clearly which answer is for which part\n",
    "## * show the output of the code cells"
   ]
  },
  {
   "cell_type": "markdown",
   "id": "a7648a40",
   "metadata": {},
   "source": [
    "# Q2.1"
   ]
  },
  {
   "cell_type": "code",
   "execution_count": 2,
   "id": "6976ec3f",
   "metadata": {},
   "outputs": [],
   "source": [
    "#(a)\n",
    "import pandas as pd\n",
    "from bs4 import BeautifulSoup \n",
    "import requests"
   ]
  },
  {
   "cell_type": "code",
   "execution_count": 3,
   "id": "0e1ce544",
   "metadata": {},
   "outputs": [],
   "source": [
    "url = 'https://en.wikipedia.org/wiki/List_of_cities_by_elevation'\n",
    "page = requests.get(url)"
   ]
  },
  {
   "cell_type": "code",
   "execution_count": 4,
   "id": "1b6cf691",
   "metadata": {
    "scrolled": true
   },
   "outputs": [
    {
     "data": {
      "text/html": [
       "<div>\n",
       "<style scoped>\n",
       "    .dataframe tbody tr th:only-of-type {\n",
       "        vertical-align: middle;\n",
       "    }\n",
       "\n",
       "    .dataframe tbody tr th {\n",
       "        vertical-align: top;\n",
       "    }\n",
       "\n",
       "    .dataframe thead th {\n",
       "        text-align: right;\n",
       "    }\n",
       "</style>\n",
       "<table border=\"1\" class=\"dataframe\">\n",
       "  <thead>\n",
       "    <tr style=\"text-align: right;\">\n",
       "      <th></th>\n",
       "      <th>Country/Territory</th>\n",
       "      <th>City Name/s</th>\n",
       "      <th>Continental Region</th>\n",
       "      <th>Latitude</th>\n",
       "      <th>Longitude</th>\n",
       "      <th>Population</th>\n",
       "      <th>Elevation (m)</th>\n",
       "    </tr>\n",
       "  </thead>\n",
       "  <tbody>\n",
       "    <tr>\n",
       "      <th>0</th>\n",
       "      <td>Nepal</td>\n",
       "      <td>Pokhara</td>\n",
       "      <td>Asia</td>\n",
       "      <td>N28.2096</td>\n",
       "      <td>E83.9856</td>\n",
       "      <td>523000.0</td>\n",
       "      <td>822</td>\n",
       "    </tr>\n",
       "    <tr>\n",
       "      <th>1</th>\n",
       "      <td>South Africa</td>\n",
       "      <td>Bloemfontein</td>\n",
       "      <td>Africa</td>\n",
       "      <td>S29.116667</td>\n",
       "      <td>E026.216667</td>\n",
       "      <td>747431.0</td>\n",
       "      <td>1395</td>\n",
       "    </tr>\n",
       "    <tr>\n",
       "      <th>2</th>\n",
       "      <td>China</td>\n",
       "      <td>Shanghai</td>\n",
       "      <td>Asia</td>\n",
       "      <td>N31.2304</td>\n",
       "      <td>E121.4737</td>\n",
       "      <td>26320000.0</td>\n",
       "      <td>122</td>\n",
       "    </tr>\n",
       "    <tr>\n",
       "      <th>3</th>\n",
       "      <td>Nepal</td>\n",
       "      <td>Butwal</td>\n",
       "      <td>Asia</td>\n",
       "      <td>N27.6866</td>\n",
       "      <td>E83.4323</td>\n",
       "      <td>120982.0</td>\n",
       "      <td>150</td>\n",
       "    </tr>\n",
       "    <tr>\n",
       "      <th>4</th>\n",
       "      <td>Italy</td>\n",
       "      <td>Milan</td>\n",
       "      <td>Europe</td>\n",
       "      <td>N45.4625</td>\n",
       "      <td>E9.186389</td>\n",
       "      <td>1378689.0</td>\n",
       "      <td>122</td>\n",
       "    </tr>\n",
       "  </tbody>\n",
       "</table>\n",
       "</div>"
      ],
      "text/plain": [
       "  Country/Territory   City Name/s Continental Region    Latitude    Longitude  \\\n",
       "0             Nepal       Pokhara               Asia    N28.2096     E83.9856   \n",
       "1      South Africa  Bloemfontein             Africa  S29.116667  E026.216667   \n",
       "2             China      Shanghai               Asia    N31.2304    E121.4737   \n",
       "3             Nepal        Butwal               Asia    N27.6866     E83.4323   \n",
       "4             Italy         Milan             Europe    N45.4625    E9.186389   \n",
       "\n",
       "   Population Elevation (m)  \n",
       "0    523000.0           822  \n",
       "1    747431.0          1395  \n",
       "2  26320000.0           122  \n",
       "3    120982.0           150  \n",
       "4   1378689.0           122  "
      ]
     },
     "execution_count": 4,
     "metadata": {},
     "output_type": "execute_result"
    }
   ],
   "source": [
    "df = pd.read_html( page.content )[1]\n",
    "df.head()"
   ]
  },
  {
   "cell_type": "code",
   "execution_count": 5,
   "id": "483acbe0",
   "metadata": {},
   "outputs": [],
   "source": [
    "#(b)"
   ]
  },
  {
   "cell_type": "code",
   "execution_count": 6,
   "id": "d6ef1e0a",
   "metadata": {},
   "outputs": [
    {
     "data": {
      "text/html": [
       "<div>\n",
       "<style scoped>\n",
       "    .dataframe tbody tr th:only-of-type {\n",
       "        vertical-align: middle;\n",
       "    }\n",
       "\n",
       "    .dataframe tbody tr th {\n",
       "        vertical-align: top;\n",
       "    }\n",
       "\n",
       "    .dataframe thead th {\n",
       "        text-align: right;\n",
       "    }\n",
       "</style>\n",
       "<table border=\"1\" class=\"dataframe\">\n",
       "  <thead>\n",
       "    <tr style=\"text-align: right;\">\n",
       "      <th></th>\n",
       "      <th>City Name/s</th>\n",
       "      <th>Continental Region</th>\n",
       "      <th>Latitude</th>\n",
       "      <th>Longitude</th>\n",
       "    </tr>\n",
       "  </thead>\n",
       "  <tbody>\n",
       "    <tr>\n",
       "      <th>0</th>\n",
       "      <td>Pokhara</td>\n",
       "      <td>Asia</td>\n",
       "      <td>N28.2096</td>\n",
       "      <td>E83.9856</td>\n",
       "    </tr>\n",
       "    <tr>\n",
       "      <th>1</th>\n",
       "      <td>Bloemfontein</td>\n",
       "      <td>Africa</td>\n",
       "      <td>S29.116667</td>\n",
       "      <td>E026.216667</td>\n",
       "    </tr>\n",
       "    <tr>\n",
       "      <th>2</th>\n",
       "      <td>Shanghai</td>\n",
       "      <td>Asia</td>\n",
       "      <td>N31.2304</td>\n",
       "      <td>E121.4737</td>\n",
       "    </tr>\n",
       "    <tr>\n",
       "      <th>3</th>\n",
       "      <td>Butwal</td>\n",
       "      <td>Asia</td>\n",
       "      <td>N27.6866</td>\n",
       "      <td>E83.4323</td>\n",
       "    </tr>\n",
       "    <tr>\n",
       "      <th>4</th>\n",
       "      <td>Milan</td>\n",
       "      <td>Europe</td>\n",
       "      <td>N45.4625</td>\n",
       "      <td>E9.186389</td>\n",
       "    </tr>\n",
       "  </tbody>\n",
       "</table>\n",
       "</div>"
      ],
      "text/plain": [
       "    City Name/s Continental Region    Latitude    Longitude\n",
       "0       Pokhara               Asia    N28.2096     E83.9856\n",
       "1  Bloemfontein             Africa  S29.116667  E026.216667\n",
       "2      Shanghai               Asia    N31.2304    E121.4737\n",
       "3        Butwal               Asia    N27.6866     E83.4323\n",
       "4         Milan             Europe    N45.4625    E9.186389"
      ]
     },
     "execution_count": 6,
     "metadata": {},
     "output_type": "execute_result"
    }
   ],
   "source": [
    "# keep columns City Name/s, Continental Region, Latitude and Longitude\n",
    "df_s = df[['City Name/s','Continental Region', 'Latitude', 'Longitude']]\n",
    "df_s.head()"
   ]
  },
  {
   "cell_type": "code",
   "execution_count": 7,
   "id": "c4d3a48c",
   "metadata": {},
   "outputs": [
    {
     "data": {
      "text/html": [
       "<div>\n",
       "<style scoped>\n",
       "    .dataframe tbody tr th:only-of-type {\n",
       "        vertical-align: middle;\n",
       "    }\n",
       "\n",
       "    .dataframe tbody tr th {\n",
       "        vertical-align: top;\n",
       "    }\n",
       "\n",
       "    .dataframe thead th {\n",
       "        text-align: right;\n",
       "    }\n",
       "</style>\n",
       "<table border=\"1\" class=\"dataframe\">\n",
       "  <thead>\n",
       "    <tr style=\"text-align: right;\">\n",
       "      <th></th>\n",
       "      <th>City Name/s</th>\n",
       "      <th>Continental Region</th>\n",
       "      <th>Latitude</th>\n",
       "      <th>Longitude</th>\n",
       "    </tr>\n",
       "  </thead>\n",
       "  <tbody>\n",
       "    <tr>\n",
       "      <th>0</th>\n",
       "      <td>Pokhara</td>\n",
       "      <td>Asia</td>\n",
       "      <td>N28.2096</td>\n",
       "      <td>E83.9856</td>\n",
       "    </tr>\n",
       "    <tr>\n",
       "      <th>1</th>\n",
       "      <td>Bloemfontein</td>\n",
       "      <td>Africa</td>\n",
       "      <td>S29.116667</td>\n",
       "      <td>E026.216667</td>\n",
       "    </tr>\n",
       "    <tr>\n",
       "      <th>2</th>\n",
       "      <td>Shanghai</td>\n",
       "      <td>Asia</td>\n",
       "      <td>N31.2304</td>\n",
       "      <td>E121.4737</td>\n",
       "    </tr>\n",
       "    <tr>\n",
       "      <th>3</th>\n",
       "      <td>Butwal</td>\n",
       "      <td>Asia</td>\n",
       "      <td>N27.6866</td>\n",
       "      <td>E83.4323</td>\n",
       "    </tr>\n",
       "    <tr>\n",
       "      <th>4</th>\n",
       "      <td>Milan</td>\n",
       "      <td>Europe</td>\n",
       "      <td>N45.4625</td>\n",
       "      <td>E9.186389</td>\n",
       "    </tr>\n",
       "  </tbody>\n",
       "</table>\n",
       "</div>"
      ],
      "text/plain": [
       "    City Name/s Continental Region    Latitude    Longitude\n",
       "0       Pokhara               Asia    N28.2096     E83.9856\n",
       "1  Bloemfontein             Africa  S29.116667  E026.216667\n",
       "2      Shanghai               Asia    N31.2304    E121.4737\n",
       "3        Butwal               Asia    N27.6866     E83.4323\n",
       "4         Milan             Europe    N45.4625    E9.186389"
      ]
     },
     "execution_count": 7,
     "metadata": {},
     "output_type": "execute_result"
    }
   ],
   "source": [
    "# remove the rows those with Americas \n",
    "df1 = df_s.drop(df_s[df_s['Continental Region'] == 'Americas'].index)\n",
    "df1 = df1.reset_index(drop=True) # reset the index\n",
    "df1.head()"
   ]
  },
  {
   "cell_type": "code",
   "execution_count": 8,
   "id": "c1c349b4",
   "metadata": {},
   "outputs": [
    {
     "data": {
      "text/plain": [
       "159"
      ]
     },
     "execution_count": 8,
     "metadata": {},
     "output_type": "execute_result"
    }
   ],
   "source": [
    "#The num of cities\n",
    "df1['City Name/s'].nunique()"
   ]
  },
  {
   "cell_type": "markdown",
   "id": "72c404ab",
   "metadata": {},
   "source": [
    " There are 159 cities in dataframe"
   ]
  },
  {
   "cell_type": "code",
   "execution_count": 9,
   "id": "f29955ea",
   "metadata": {},
   "outputs": [],
   "source": [
    "#(c) "
   ]
  },
  {
   "cell_type": "code",
   "execution_count": 10,
   "id": "66b417a1",
   "metadata": {},
   "outputs": [],
   "source": [
    "df1['Latitude'] = df1['Latitude'].str.replace('N','+')\n",
    "df1['Latitude'] = df1['Latitude'].str.replace('S','-')"
   ]
  },
  {
   "cell_type": "code",
   "execution_count": 11,
   "id": "4fc4ae1c",
   "metadata": {},
   "outputs": [],
   "source": [
    "df1['Longitude'] = df1['Longitude'].str.replace( 'E','+')\n",
    "df1['Longitude'] = df1['Longitude'].str.replace( 'W','-')"
   ]
  },
  {
   "cell_type": "code",
   "execution_count": 13,
   "id": "14cdcad6",
   "metadata": {},
   "outputs": [
    {
     "data": {
      "text/html": [
       "<div>\n",
       "<style scoped>\n",
       "    .dataframe tbody tr th:only-of-type {\n",
       "        vertical-align: middle;\n",
       "    }\n",
       "\n",
       "    .dataframe tbody tr th {\n",
       "        vertical-align: top;\n",
       "    }\n",
       "\n",
       "    .dataframe thead th {\n",
       "        text-align: right;\n",
       "    }\n",
       "</style>\n",
       "<table border=\"1\" class=\"dataframe\">\n",
       "  <thead>\n",
       "    <tr style=\"text-align: right;\">\n",
       "      <th></th>\n",
       "      <th>City Name/s</th>\n",
       "      <th>Continental Region</th>\n",
       "      <th>Latitude</th>\n",
       "      <th>Longitude</th>\n",
       "    </tr>\n",
       "  </thead>\n",
       "  <tbody>\n",
       "    <tr>\n",
       "      <th>0</th>\n",
       "      <td>Pokhara</td>\n",
       "      <td>Asia</td>\n",
       "      <td>+28.2096</td>\n",
       "      <td>+83.9856</td>\n",
       "    </tr>\n",
       "    <tr>\n",
       "      <th>1</th>\n",
       "      <td>Bloemfontein</td>\n",
       "      <td>Africa</td>\n",
       "      <td>-29.116667</td>\n",
       "      <td>+026.216667</td>\n",
       "    </tr>\n",
       "    <tr>\n",
       "      <th>2</th>\n",
       "      <td>Shanghai</td>\n",
       "      <td>Asia</td>\n",
       "      <td>+31.2304</td>\n",
       "      <td>+121.4737</td>\n",
       "    </tr>\n",
       "    <tr>\n",
       "      <th>3</th>\n",
       "      <td>Butwal</td>\n",
       "      <td>Asia</td>\n",
       "      <td>+27.6866</td>\n",
       "      <td>+83.4323</td>\n",
       "    </tr>\n",
       "    <tr>\n",
       "      <th>4</th>\n",
       "      <td>Milan</td>\n",
       "      <td>Europe</td>\n",
       "      <td>+45.4625</td>\n",
       "      <td>+9.186389</td>\n",
       "    </tr>\n",
       "  </tbody>\n",
       "</table>\n",
       "</div>"
      ],
      "text/plain": [
       "    City Name/s Continental Region    Latitude    Longitude\n",
       "0       Pokhara               Asia    +28.2096     +83.9856\n",
       "1  Bloemfontein             Africa  -29.116667  +026.216667\n",
       "2      Shanghai               Asia    +31.2304    +121.4737\n",
       "3        Butwal               Asia    +27.6866     +83.4323\n",
       "4         Milan             Europe    +45.4625    +9.186389"
      ]
     },
     "execution_count": 13,
     "metadata": {},
     "output_type": "execute_result"
    }
   ],
   "source": [
    "#check\n",
    "df1.head()"
   ]
  },
  {
   "cell_type": "code",
   "execution_count": 14,
   "id": "30b15027",
   "metadata": {},
   "outputs": [],
   "source": [
    "df1['Latitude'] = df1['Latitude'].astype(float)\n",
    "df1['Longitude'] = df1['Longitude'].astype(float)"
   ]
  },
  {
   "cell_type": "code",
   "execution_count": 1,
   "id": "60fc3cbd",
   "metadata": {},
   "outputs": [
    {
     "ename": "NameError",
     "evalue": "name 'df1' is not defined",
     "output_type": "error",
     "traceback": [
      "\u001b[1;31m---------------------------------------------------------------------------\u001b[0m",
      "\u001b[1;31mNameError\u001b[0m                                 Traceback (most recent call last)",
      "Input \u001b[1;32mIn [1]\u001b[0m, in \u001b[0;36m<cell line: 1>\u001b[1;34m()\u001b[0m\n\u001b[1;32m----> 1\u001b[0m \u001b[38;5;28mprint\u001b[39m(\u001b[43mdf1\u001b[49m\u001b[38;5;241m.\u001b[39mdtypes)\n",
      "\u001b[1;31mNameError\u001b[0m: name 'df1' is not defined"
     ]
    }
   ],
   "source": [
    "print(df1.dtypes)"
   ]
  },
  {
   "cell_type": "markdown",
   "id": "34bd69c5",
   "metadata": {},
   "source": [
    "# Q2.2"
   ]
  },
  {
   "cell_type": "code",
   "execution_count": 16,
   "id": "9cdc9dc4",
   "metadata": {},
   "outputs": [],
   "source": [
    "from bs4 import BeautifulSoup\n",
    "import requests\n",
    "import json\n"
   ]
  },
  {
   "cell_type": "code",
   "execution_count": 17,
   "id": "65f777d9",
   "metadata": {},
   "outputs": [],
   "source": [
    "#(a)\n",
    "url = 'http://api.openweathermap.org/data/2.5/air_pollution?lat={lat}&lon={lon}&appid=20b3992c11b8e46d6476b2c1ccc69939'\n",
    "r = requests.get(url)"
   ]
  },
  {
   "cell_type": "code",
   "execution_count": 18,
   "id": "0f3cc1cd",
   "metadata": {},
   "outputs": [
    {
     "data": {
      "text/plain": [
       "<Response [400]>"
      ]
     },
     "execution_count": 18,
     "metadata": {},
     "output_type": "execute_result"
    }
   ],
   "source": [
    "r"
   ]
  },
  {
   "cell_type": "markdown",
   "id": "fd94009b",
   "metadata": {},
   "source": [
    "# Q2.3"
   ]
  },
  {
   "cell_type": "code",
   "execution_count": 19,
   "id": "2781fb6a",
   "metadata": {},
   "outputs": [],
   "source": [
    "#(a) "
   ]
  },
  {
   "cell_type": "code",
   "execution_count": 20,
   "id": "b6f56189",
   "metadata": {},
   "outputs": [],
   "source": [
    "import pandas as pd"
   ]
  },
  {
   "cell_type": "code",
   "execution_count": 21,
   "id": "f01d7f50",
   "metadata": {},
   "outputs": [],
   "source": [
    "result = []\n",
    "air_po = []\n",
    "\n",
    "for i in range(len(df1)):\n",
    "    latitude = df1['Latitude'][i]\n",
    "    longitude = df1['Longitude'][i]\n",
    "    url = 'http://api.openweathermap.org/data/2.5/air_pollution?lat='+ str(latitude)+ '&lon='+str(longitude)+'&appid=20b3992c11b8e46d6476b2c1ccc69939'\n",
    "    r1 = requests.get(url)\n",
    "    p_data = json.loads(r1.text)\n",
    "    air_po.append(p_data)"
   ]
  },
  {
   "cell_type": "code",
   "execution_count": 22,
   "id": "7cb38885",
   "metadata": {},
   "outputs": [],
   "source": [
    "#(b)"
   ]
  },
  {
   "cell_type": "code",
   "execution_count": 23,
   "id": "4841f773",
   "metadata": {},
   "outputs": [
    {
     "data": {
      "text/plain": [
       "{'co': 313.76,\n",
       " 'no': 0,\n",
       " 'no2': 1.41,\n",
       " 'o3': 38.27,\n",
       " 'so2': 0.57,\n",
       " 'pm2_5': 18.35,\n",
       " 'pm10': 29.11,\n",
       " 'nh3': 2.69}"
      ]
     },
     "execution_count": 23,
     "metadata": {},
     "output_type": "execute_result"
    }
   ],
   "source": [
    "air_po[0]['list'][0]['components']"
   ]
  },
  {
   "cell_type": "code",
   "execution_count": 24,
   "id": "a9e66c98",
   "metadata": {},
   "outputs": [],
   "source": [
    "#collect the concentration of 8 types of polluting gases and particulates from the \n",
    "#  air pollution data(air_po list) that we got in 3(b)\n",
    "co = []\n",
    "no = []\n",
    "no2 = []\n",
    "o3 = []\n",
    "so2 =[]\n",
    "pm2_5 = []\n",
    "pm10 = []\n",
    "nh3 = []\n",
    "\n",
    "for i in range(len(air_po)):\n",
    "    \n",
    "    co.append(air_po[i]['list'][0]['components']['co'])\n",
    "    no.append(air_po[i]['list'][0]['components']['no'])\n",
    "    no2 .append(air_po[i]['list'][0]['components']['no2'])\n",
    "    o3.append(air_po[i]['list'][0]['components']['o3'])\n",
    "    so2.append(air_po[i]['list'][0]['components']['so2'])\n",
    "    pm2_5.append(air_po[i]['list'][0]['components']['pm2_5'])\n",
    "    pm10.append(air_po[i]['list'][0]['components']['pm10'])\n",
    "    nh3.append(air_po[i]['list'][0]['components']['nh3'])"
   ]
  },
  {
   "cell_type": "code",
   "execution_count": 25,
   "id": "7079ba8c",
   "metadata": {},
   "outputs": [],
   "source": [
    "# store the results in a pd.DataFrame air_df"
   ]
  },
  {
   "cell_type": "code",
   "execution_count": 26,
   "id": "e0de213c",
   "metadata": {},
   "outputs": [],
   "source": [
    "# df of City name Continental region\n",
    "air_df_CC = pd.DataFrame()\n",
    "air_df_CC['City Name/s']= df1[\"City Name/s\"]\n",
    "air_df_CC['Continental Region']=df1['Continental Region']"
   ]
  },
  {
   "cell_type": "code",
   "execution_count": 27,
   "id": "3e551a85",
   "metadata": {},
   "outputs": [],
   "source": [
    "# df of 8 types of polluting gases and particulates\n",
    "zipped = zip(co,no,no2,o3,so2,pm2_5,pm10,nh3)\n",
    "air_df_PP = pd.DataFrame(zipped, columns=['CO', 'NO', 'NO2', 'O3', 'SO2','PM2.5','PM10','NH3'])"
   ]
  },
  {
   "cell_type": "code",
   "execution_count": 28,
   "id": "a9b6a2de",
   "metadata": {},
   "outputs": [],
   "source": [
    "air_df_full = pd.concat([air_df_CC,air_df_PP],axis=1)"
   ]
  },
  {
   "cell_type": "code",
   "execution_count": 29,
   "id": "97693353",
   "metadata": {},
   "outputs": [
    {
     "data": {
      "text/html": [
       "<div>\n",
       "<style scoped>\n",
       "    .dataframe tbody tr th:only-of-type {\n",
       "        vertical-align: middle;\n",
       "    }\n",
       "\n",
       "    .dataframe tbody tr th {\n",
       "        vertical-align: top;\n",
       "    }\n",
       "\n",
       "    .dataframe thead th {\n",
       "        text-align: right;\n",
       "    }\n",
       "</style>\n",
       "<table border=\"1\" class=\"dataframe\">\n",
       "  <thead>\n",
       "    <tr style=\"text-align: right;\">\n",
       "      <th></th>\n",
       "      <th>City Name/s</th>\n",
       "      <th>Continental Region</th>\n",
       "      <th>CO</th>\n",
       "      <th>NO</th>\n",
       "      <th>NO2</th>\n",
       "      <th>O3</th>\n",
       "      <th>SO2</th>\n",
       "      <th>PM2.5</th>\n",
       "      <th>PM10</th>\n",
       "      <th>NH3</th>\n",
       "    </tr>\n",
       "  </thead>\n",
       "  <tbody>\n",
       "    <tr>\n",
       "      <th>0</th>\n",
       "      <td>Pokhara</td>\n",
       "      <td>Asia</td>\n",
       "      <td>313.76</td>\n",
       "      <td>0.00</td>\n",
       "      <td>1.41</td>\n",
       "      <td>38.27</td>\n",
       "      <td>0.57</td>\n",
       "      <td>18.35</td>\n",
       "      <td>29.11</td>\n",
       "      <td>2.69</td>\n",
       "    </tr>\n",
       "    <tr>\n",
       "      <th>1</th>\n",
       "      <td>Bloemfontein</td>\n",
       "      <td>Africa</td>\n",
       "      <td>223.64</td>\n",
       "      <td>0.00</td>\n",
       "      <td>4.41</td>\n",
       "      <td>26.11</td>\n",
       "      <td>6.50</td>\n",
       "      <td>4.59</td>\n",
       "      <td>4.98</td>\n",
       "      <td>0.00</td>\n",
       "    </tr>\n",
       "    <tr>\n",
       "      <th>2</th>\n",
       "      <td>Shanghai</td>\n",
       "      <td>Asia</td>\n",
       "      <td>423.91</td>\n",
       "      <td>8.05</td>\n",
       "      <td>31.87</td>\n",
       "      <td>75.82</td>\n",
       "      <td>42.44</td>\n",
       "      <td>48.82</td>\n",
       "      <td>80.47</td>\n",
       "      <td>0.03</td>\n",
       "    </tr>\n",
       "    <tr>\n",
       "      <th>3</th>\n",
       "      <td>Butwal</td>\n",
       "      <td>Asia</td>\n",
       "      <td>841.14</td>\n",
       "      <td>0.49</td>\n",
       "      <td>6.86</td>\n",
       "      <td>18.42</td>\n",
       "      <td>1.74</td>\n",
       "      <td>84.13</td>\n",
       "      <td>120.09</td>\n",
       "      <td>6.90</td>\n",
       "    </tr>\n",
       "    <tr>\n",
       "      <th>4</th>\n",
       "      <td>Milan</td>\n",
       "      <td>Europe</td>\n",
       "      <td>1348.50</td>\n",
       "      <td>36.66</td>\n",
       "      <td>37.01</td>\n",
       "      <td>0.00</td>\n",
       "      <td>1.43</td>\n",
       "      <td>56.42</td>\n",
       "      <td>58.60</td>\n",
       "      <td>1.77</td>\n",
       "    </tr>\n",
       "  </tbody>\n",
       "</table>\n",
       "</div>"
      ],
      "text/plain": [
       "    City Name/s Continental Region       CO     NO    NO2     O3    SO2  \\\n",
       "0       Pokhara               Asia   313.76   0.00   1.41  38.27   0.57   \n",
       "1  Bloemfontein             Africa   223.64   0.00   4.41  26.11   6.50   \n",
       "2      Shanghai               Asia   423.91   8.05  31.87  75.82  42.44   \n",
       "3        Butwal               Asia   841.14   0.49   6.86  18.42   1.74   \n",
       "4         Milan             Europe  1348.50  36.66  37.01   0.00   1.43   \n",
       "\n",
       "   PM2.5    PM10   NH3  \n",
       "0  18.35   29.11  2.69  \n",
       "1   4.59    4.98  0.00  \n",
       "2  48.82   80.47  0.03  \n",
       "3  84.13  120.09  6.90  \n",
       "4  56.42   58.60  1.77  "
      ]
     },
     "execution_count": 29,
     "metadata": {},
     "output_type": "execute_result"
    }
   ],
   "source": [
    "#check\n",
    "air_df_full.head()"
   ]
  },
  {
   "cell_type": "code",
   "execution_count": 30,
   "id": "56c11eaa",
   "metadata": {},
   "outputs": [],
   "source": [
    "#(c) Store the pd.DataFrame \n",
    "import os\n",
    "air_df_full.to_csv('data/air_pollutant_2022_11_2.csv')"
   ]
  },
  {
   "cell_type": "markdown",
   "id": "2dc448e4",
   "metadata": {},
   "source": [
    "# Q2.4"
   ]
  },
  {
   "cell_type": "code",
   "execution_count": 31,
   "id": "259a0d7a",
   "metadata": {},
   "outputs": [
    {
     "data": {
      "text/html": [
       "<div>\n",
       "<style scoped>\n",
       "    .dataframe tbody tr th:only-of-type {\n",
       "        vertical-align: middle;\n",
       "    }\n",
       "\n",
       "    .dataframe tbody tr th {\n",
       "        vertical-align: top;\n",
       "    }\n",
       "\n",
       "    .dataframe thead th {\n",
       "        text-align: right;\n",
       "    }\n",
       "</style>\n",
       "<table border=\"1\" class=\"dataframe\">\n",
       "  <thead>\n",
       "    <tr style=\"text-align: right;\">\n",
       "      <th></th>\n",
       "      <th>CO</th>\n",
       "      <th>NO</th>\n",
       "      <th>NO2</th>\n",
       "      <th>O3</th>\n",
       "      <th>SO2</th>\n",
       "      <th>PM2.5</th>\n",
       "      <th>PM10</th>\n",
       "      <th>NH3</th>\n",
       "    </tr>\n",
       "  </thead>\n",
       "  <tbody>\n",
       "    <tr>\n",
       "      <th>count</th>\n",
       "      <td>159.000000</td>\n",
       "      <td>159.000000</td>\n",
       "      <td>159.000000</td>\n",
       "      <td>159.000000</td>\n",
       "      <td>159.000000</td>\n",
       "      <td>159.000000</td>\n",
       "      <td>159.000000</td>\n",
       "      <td>159.000000</td>\n",
       "    </tr>\n",
       "    <tr>\n",
       "      <th>mean</th>\n",
       "      <td>591.168994</td>\n",
       "      <td>10.039497</td>\n",
       "      <td>14.709371</td>\n",
       "      <td>34.069182</td>\n",
       "      <td>9.620943</td>\n",
       "      <td>36.182830</td>\n",
       "      <td>67.432201</td>\n",
       "      <td>3.825912</td>\n",
       "    </tr>\n",
       "    <tr>\n",
       "      <th>std</th>\n",
       "      <td>982.632297</td>\n",
       "      <td>38.601769</td>\n",
       "      <td>19.203702</td>\n",
       "      <td>27.268131</td>\n",
       "      <td>21.104366</td>\n",
       "      <td>48.116774</td>\n",
       "      <td>106.360797</td>\n",
       "      <td>8.989483</td>\n",
       "    </tr>\n",
       "    <tr>\n",
       "      <th>min</th>\n",
       "      <td>165.220000</td>\n",
       "      <td>0.000000</td>\n",
       "      <td>0.070000</td>\n",
       "      <td>0.000000</td>\n",
       "      <td>0.060000</td>\n",
       "      <td>0.500000</td>\n",
       "      <td>0.520000</td>\n",
       "      <td>0.000000</td>\n",
       "    </tr>\n",
       "    <tr>\n",
       "      <th>25%</th>\n",
       "      <td>211.950000</td>\n",
       "      <td>0.000000</td>\n",
       "      <td>1.755000</td>\n",
       "      <td>12.335000</td>\n",
       "      <td>0.605000</td>\n",
       "      <td>4.570000</td>\n",
       "      <td>8.995000</td>\n",
       "      <td>0.310000</td>\n",
       "    </tr>\n",
       "    <tr>\n",
       "      <th>50%</th>\n",
       "      <td>307.080000</td>\n",
       "      <td>0.010000</td>\n",
       "      <td>6.860000</td>\n",
       "      <td>30.040000</td>\n",
       "      <td>2.060000</td>\n",
       "      <td>14.920000</td>\n",
       "      <td>23.700000</td>\n",
       "      <td>1.090000</td>\n",
       "    </tr>\n",
       "    <tr>\n",
       "      <th>75%</th>\n",
       "      <td>497.345000</td>\n",
       "      <td>0.300000</td>\n",
       "      <td>19.880000</td>\n",
       "      <td>50.425000</td>\n",
       "      <td>6.970000</td>\n",
       "      <td>48.065000</td>\n",
       "      <td>74.465000</td>\n",
       "      <td>2.610000</td>\n",
       "    </tr>\n",
       "    <tr>\n",
       "      <th>max</th>\n",
       "      <td>8865.360000</td>\n",
       "      <td>293.260000</td>\n",
       "      <td>102.820000</td>\n",
       "      <td>153.070000</td>\n",
       "      <td>164.030000</td>\n",
       "      <td>229.390000</td>\n",
       "      <td>929.000000</td>\n",
       "      <td>64.340000</td>\n",
       "    </tr>\n",
       "  </tbody>\n",
       "</table>\n",
       "</div>"
      ],
      "text/plain": [
       "                CO          NO         NO2          O3         SO2  \\\n",
       "count   159.000000  159.000000  159.000000  159.000000  159.000000   \n",
       "mean    591.168994   10.039497   14.709371   34.069182    9.620943   \n",
       "std     982.632297   38.601769   19.203702   27.268131   21.104366   \n",
       "min     165.220000    0.000000    0.070000    0.000000    0.060000   \n",
       "25%     211.950000    0.000000    1.755000   12.335000    0.605000   \n",
       "50%     307.080000    0.010000    6.860000   30.040000    2.060000   \n",
       "75%     497.345000    0.300000   19.880000   50.425000    6.970000   \n",
       "max    8865.360000  293.260000  102.820000  153.070000  164.030000   \n",
       "\n",
       "            PM2.5        PM10         NH3  \n",
       "count  159.000000  159.000000  159.000000  \n",
       "mean    36.182830   67.432201    3.825912  \n",
       "std     48.116774  106.360797    8.989483  \n",
       "min      0.500000    0.520000    0.000000  \n",
       "25%      4.570000    8.995000    0.310000  \n",
       "50%     14.920000   23.700000    1.090000  \n",
       "75%     48.065000   74.465000    2.610000  \n",
       "max    229.390000  929.000000   64.340000  "
      ]
     },
     "execution_count": 31,
     "metadata": {},
     "output_type": "execute_result"
    }
   ],
   "source": [
    "air_df_full.describe()"
   ]
  },
  {
   "cell_type": "code",
   "execution_count": 32,
   "id": "7d4572ba",
   "metadata": {},
   "outputs": [
    {
     "data": {
      "text/html": [
       "<div>\n",
       "<style scoped>\n",
       "    .dataframe tbody tr th:only-of-type {\n",
       "        vertical-align: middle;\n",
       "    }\n",
       "\n",
       "    .dataframe tbody tr th {\n",
       "        vertical-align: top;\n",
       "    }\n",
       "\n",
       "    .dataframe thead th {\n",
       "        text-align: right;\n",
       "    }\n",
       "</style>\n",
       "<table border=\"1\" class=\"dataframe\">\n",
       "  <thead>\n",
       "    <tr style=\"text-align: right;\">\n",
       "      <th></th>\n",
       "      <th>CO</th>\n",
       "      <th>NO</th>\n",
       "      <th>NO2</th>\n",
       "      <th>O3</th>\n",
       "      <th>SO2</th>\n",
       "      <th>PM2.5</th>\n",
       "      <th>PM10</th>\n",
       "      <th>NH3</th>\n",
       "    </tr>\n",
       "  </thead>\n",
       "  <tbody>\n",
       "    <tr>\n",
       "      <th>CO</th>\n",
       "      <td>1.000000</td>\n",
       "      <td>0.801476</td>\n",
       "      <td>0.534978</td>\n",
       "      <td>-0.324413</td>\n",
       "      <td>0.695676</td>\n",
       "      <td>0.598816</td>\n",
       "      <td>0.319395</td>\n",
       "      <td>0.686254</td>\n",
       "    </tr>\n",
       "    <tr>\n",
       "      <th>NO</th>\n",
       "      <td>0.801476</td>\n",
       "      <td>1.000000</td>\n",
       "      <td>0.541790</td>\n",
       "      <td>-0.299892</td>\n",
       "      <td>0.804404</td>\n",
       "      <td>0.341667</td>\n",
       "      <td>0.159957</td>\n",
       "      <td>0.377550</td>\n",
       "    </tr>\n",
       "    <tr>\n",
       "      <th>NO2</th>\n",
       "      <td>0.534978</td>\n",
       "      <td>0.541790</td>\n",
       "      <td>1.000000</td>\n",
       "      <td>-0.400242</td>\n",
       "      <td>0.677808</td>\n",
       "      <td>0.569111</td>\n",
       "      <td>0.291007</td>\n",
       "      <td>0.394357</td>\n",
       "    </tr>\n",
       "    <tr>\n",
       "      <th>O3</th>\n",
       "      <td>-0.324413</td>\n",
       "      <td>-0.299892</td>\n",
       "      <td>-0.400242</td>\n",
       "      <td>1.000000</td>\n",
       "      <td>-0.199275</td>\n",
       "      <td>-0.164452</td>\n",
       "      <td>0.013984</td>\n",
       "      <td>-0.281973</td>\n",
       "    </tr>\n",
       "    <tr>\n",
       "      <th>SO2</th>\n",
       "      <td>0.695676</td>\n",
       "      <td>0.804404</td>\n",
       "      <td>0.677808</td>\n",
       "      <td>-0.199275</td>\n",
       "      <td>1.000000</td>\n",
       "      <td>0.401885</td>\n",
       "      <td>0.179974</td>\n",
       "      <td>0.354372</td>\n",
       "    </tr>\n",
       "    <tr>\n",
       "      <th>PM2.5</th>\n",
       "      <td>0.598816</td>\n",
       "      <td>0.341667</td>\n",
       "      <td>0.569111</td>\n",
       "      <td>-0.164452</td>\n",
       "      <td>0.401885</td>\n",
       "      <td>1.000000</td>\n",
       "      <td>0.805945</td>\n",
       "      <td>0.573077</td>\n",
       "    </tr>\n",
       "    <tr>\n",
       "      <th>PM10</th>\n",
       "      <td>0.319395</td>\n",
       "      <td>0.159957</td>\n",
       "      <td>0.291007</td>\n",
       "      <td>0.013984</td>\n",
       "      <td>0.179974</td>\n",
       "      <td>0.805945</td>\n",
       "      <td>1.000000</td>\n",
       "      <td>0.337422</td>\n",
       "    </tr>\n",
       "    <tr>\n",
       "      <th>NH3</th>\n",
       "      <td>0.686254</td>\n",
       "      <td>0.377550</td>\n",
       "      <td>0.394357</td>\n",
       "      <td>-0.281973</td>\n",
       "      <td>0.354372</td>\n",
       "      <td>0.573077</td>\n",
       "      <td>0.337422</td>\n",
       "      <td>1.000000</td>\n",
       "    </tr>\n",
       "  </tbody>\n",
       "</table>\n",
       "</div>"
      ],
      "text/plain": [
       "             CO        NO       NO2        O3       SO2     PM2.5      PM10  \\\n",
       "CO     1.000000  0.801476  0.534978 -0.324413  0.695676  0.598816  0.319395   \n",
       "NO     0.801476  1.000000  0.541790 -0.299892  0.804404  0.341667  0.159957   \n",
       "NO2    0.534978  0.541790  1.000000 -0.400242  0.677808  0.569111  0.291007   \n",
       "O3    -0.324413 -0.299892 -0.400242  1.000000 -0.199275 -0.164452  0.013984   \n",
       "SO2    0.695676  0.804404  0.677808 -0.199275  1.000000  0.401885  0.179974   \n",
       "PM2.5  0.598816  0.341667  0.569111 -0.164452  0.401885  1.000000  0.805945   \n",
       "PM10   0.319395  0.159957  0.291007  0.013984  0.179974  0.805945  1.000000   \n",
       "NH3    0.686254  0.377550  0.394357 -0.281973  0.354372  0.573077  0.337422   \n",
       "\n",
       "            NH3  \n",
       "CO     0.686254  \n",
       "NO     0.377550  \n",
       "NO2    0.394357  \n",
       "O3    -0.281973  \n",
       "SO2    0.354372  \n",
       "PM2.5  0.573077  \n",
       "PM10   0.337422  \n",
       "NH3    1.000000  "
      ]
     },
     "execution_count": 32,
     "metadata": {},
     "output_type": "execute_result"
    }
   ],
   "source": [
    "#If the concentration of one pollutant is high, is it more likely that the concentration of another pollutant is also high?\n",
    "air_df_full.corr()"
   ]
  },
  {
   "cell_type": "markdown",
   "id": "fa492a96",
   "metadata": {},
   "source": [
    "From the table above, we can see \n",
    "There is a Positive correlation between CO and PM2,5; PM2.5 and PM10\n",
    "                               "
   ]
  },
  {
   "cell_type": "code",
   "execution_count": 33,
   "id": "08246de3",
   "metadata": {},
   "outputs": [
    {
     "data": {
      "text/plain": [
       "591.1689937106918"
      ]
     },
     "execution_count": 33,
     "metadata": {},
     "output_type": "execute_result"
    }
   ],
   "source": [
    "air_df_full['CO'].aggregate('mean')"
   ]
  },
  {
   "cell_type": "code",
   "execution_count": 34,
   "id": "b7e1c788",
   "metadata": {},
   "outputs": [],
   "source": [
    "#air_df_full.groupby('Continental Region') # groupby function doesnot work"
   ]
  },
  {
   "cell_type": "code",
   "execution_count": 35,
   "id": "f5d1f783",
   "metadata": {},
   "outputs": [
    {
     "data": {
      "text/plain": [
       "Asia       61\n",
       "Africa     51\n",
       "Europe     39\n",
       "Oceania     8\n",
       "Name: Continental Region, dtype: int64"
      ]
     },
     "execution_count": 35,
     "metadata": {},
     "output_type": "execute_result"
    }
   ],
   "source": [
    "air_df_full['Continental Region'].value_counts()"
   ]
  },
  {
   "cell_type": "code",
   "execution_count": 36,
   "id": "4b38c3cf",
   "metadata": {},
   "outputs": [],
   "source": [
    "#Contruct data frame for each Continental Region\n",
    "#Asia\n",
    "Asia_df = air_df_full.loc[ air_df_full['Continental Region'] == 'Asia' ]\n",
    "Asia_df = Asia_df.reset_index(drop=True)\n",
    "#Africa\n",
    "Africa_df = air_df_full.loc[ air_df_full['Continental Region'] == 'Africa' ]\n",
    "Africa_df = Africa_df.reset_index(drop=True)\n",
    "#Europe\n",
    "Europe_df= air_df_full.loc[ air_df_full['Continental Region'] == 'Europe' ]\n",
    "Europe_df = Europe_df.reset_index(drop=True)\n",
    "#Oceania\n",
    "Oceania_df = air_df_full.loc[ air_df_full['Continental Region'] == 'Oceania' ]\n",
    "Oceania_df = Oceania_df.reset_index(drop=True)"
   ]
  },
  {
   "cell_type": "code",
   "execution_count": 37,
   "id": "ceb43a2e",
   "metadata": {},
   "outputs": [
    {
     "data": {
      "text/plain": [
       "CO       920.237213\n",
       "NO        20.699180\n",
       "NO2       25.688361\n",
       "O3        39.271803\n",
       "SO2       20.625410\n",
       "PM2.5     55.177705\n",
       "PM10      82.332459\n",
       "NH3        6.820164\n",
       "dtype: float64"
      ]
     },
     "execution_count": 37,
     "metadata": {},
     "output_type": "execute_result"
    }
   ],
   "source": [
    "Asia_df[ ['CO', 'NO', 'NO2', 'O3', 'SO2','PM2.5','PM10','NH3'] ].aggregate('mean')"
   ]
  },
  {
   "cell_type": "code",
   "execution_count": 38,
   "id": "c7669d26",
   "metadata": {},
   "outputs": [
    {
     "data": {
      "text/plain": [
       "CO       432.188039\n",
       "NO         1.496078\n",
       "NO2        5.057843\n",
       "O3        30.190784\n",
       "SO2        2.726863\n",
       "PM2.5     29.948627\n",
       "PM10      86.020784\n",
       "NH3        2.599412\n",
       "dtype: float64"
      ]
     },
     "execution_count": 38,
     "metadata": {},
     "output_type": "execute_result"
    }
   ],
   "source": [
    "Africa_df[ ['CO', 'NO', 'NO2', 'O3', 'SO2','PM2.5','PM10','NH3'] ].aggregate('mean')"
   ]
  },
  {
   "cell_type": "code",
   "execution_count": 39,
   "id": "bdcc980b",
   "metadata": {},
   "outputs": [
    {
     "data": {
      "text/plain": [
       "CO       363.570769\n",
       "NO         6.556410\n",
       "NO2       13.055385\n",
       "O3        29.885641\n",
       "SO2        3.290513\n",
       "PM2.5     21.615128\n",
       "PM10      32.752564\n",
       "NH3        1.457692\n",
       "dtype: float64"
      ]
     },
     "execution_count": 39,
     "metadata": {},
     "output_type": "execute_result"
    }
   ],
   "source": [
    "Europe_df[ ['CO', 'NO', 'NO2', 'O3', 'SO2','PM2.5','PM10','NH3'] ].aggregate('mean')"
   ]
  },
  {
   "cell_type": "code",
   "execution_count": 40,
   "id": "7ed914b9",
   "metadata": {},
   "outputs": [
    {
     "data": {
      "text/plain": [
       "CO       205.06875\n",
       "NO         0.20375\n",
       "NO2        0.58625\n",
       "O3        39.51875\n",
       "SO2        0.52250\n",
       "PM2.5      2.10750\n",
       "PM10       4.37875\n",
       "NH3        0.35875\n",
       "dtype: float64"
      ]
     },
     "execution_count": 40,
     "metadata": {},
     "output_type": "execute_result"
    }
   ],
   "source": [
    "Oceania_df[ ['CO', 'NO', 'NO2', 'O3', 'SO2','PM2.5','PM10','NH3'] ].aggregate('mean')"
   ]
  },
  {
   "cell_type": "code",
   "execution_count": 41,
   "id": "e7b1ad52",
   "metadata": {},
   "outputs": [],
   "source": [
    "#Do you find any relations between continental region and the pollution levels?"
   ]
  },
  {
   "cell_type": "markdown",
   "id": "a6f9b365",
   "metadata": {},
   "source": [
    "The city in Asia normally has higher pollution levels\n",
    "\n",
    "The city in Oceania normally has Lower pollution levels "
   ]
  },
  {
   "cell_type": "code",
   "execution_count": null,
   "id": "34c5eeeb",
   "metadata": {},
   "outputs": [],
   "source": []
  }
 ],
 "metadata": {
  "kernelspec": {
   "display_name": "Python 3 (ipykernel)",
   "language": "python",
   "name": "python3"
  },
  "language_info": {
   "codemirror_mode": {
    "name": "ipython",
    "version": 3
   },
   "file_extension": ".py",
   "mimetype": "text/x-python",
   "name": "python",
   "nbconvert_exporter": "python",
   "pygments_lexer": "ipython3",
   "version": "3.9.13"
  }
 },
 "nbformat": 4,
 "nbformat_minor": 5
}
